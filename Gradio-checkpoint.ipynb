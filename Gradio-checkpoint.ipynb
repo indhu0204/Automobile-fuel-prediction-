{
 "cells": [
  {
   "cell_type": "code",
   "execution_count": 4,
   "id": "592fcddc-7962-453a-8488-9671a8cc31f7",
   "metadata": {},
   "outputs": [],
   "source": [
    "import pickle\n",
    "import gradio as gr"
   ]
  },
  {
   "cell_type": "code",
   "execution_count": 3,
   "id": "f4640511-52d3-4870-96c2-bb3b9d4f63ca",
   "metadata": {},
   "outputs": [],
   "source": [
    "#Loading Saved Model\n",
    "with open(\"Fuel_Pred1.0.pkl\",\"rb\") as f:\n",
    "    model = pickle.load(f)"
   ]
  },
  {
   "cell_type": "code",
   "execution_count": 5,
   "id": "76d682f5-7357-4a06-88db-74b4b9a36b04",
   "metadata": {},
   "outputs": [
    {
     "name": "stderr",
     "output_type": "stream",
     "text": [
      "C:\\Users\\sanja\\anaconda3\\Lib\\site-packages\\gradio\\utils.py:1000: UserWarning: Expected 7 arguments for function <function predict_mpg at 0x000001F29BC2F060>, received 5.\n",
      "  warnings.warn(\n",
      "C:\\Users\\sanja\\anaconda3\\Lib\\site-packages\\gradio\\utils.py:1004: UserWarning: Expected at least 7 arguments for function <function predict_mpg at 0x000001F29BC2F060>, received 5.\n",
      "  warnings.warn(\n"
     ]
    },
    {
     "name": "stdout",
     "output_type": "stream",
     "text": [
      "Running on local URL:  http://127.0.0.1:7860\n",
      "\n",
      "To create a public link, set `share=True` in `launch()`.\n"
     ]
    },
    {
     "data": {
      "text/html": [
       "<div><iframe src=\"http://127.0.0.1:7860/\" width=\"100%\" height=\"500\" allow=\"autoplay; camera; microphone; clipboard-read; clipboard-write;\" frameborder=\"0\" allowfullscreen></iframe></div>"
      ],
      "text/plain": [
       "<IPython.core.display.HTML object>"
      ]
     },
     "metadata": {},
     "output_type": "display_data"
    },
    {
     "data": {
      "text/plain": []
     },
     "execution_count": 5,
     "metadata": {},
     "output_type": "execute_result"
    }
   ],
   "source": [
    "# Define the prediction function\n",
    "def predict_mpg(cylinders,displacement,horsepower, weight,acceleration,model_year,origin):\n",
    "    # Create a dataframe with the input values\n",
    "    input_data = pd.DataFrame({'cylinders': [cylinders], 'displacement': [displacement], 'horsepower': [horsepower], 'weight': [weight], 'acceleration': [acceleration]})\n",
    "    \n",
    "    # Use the model to make a prediction\n",
    "    prediction = model.predict(input_data)\n",
    "    \n",
    "    # Return the predicted rainfall\n",
    "    return f\"The mpg is {prediction[0]:.2f}\"\n",
    "\n",
    "# Create the Gradio interface\n",
    "# Create the Gradio interface\n",
    "iface = gr.Interface(\n",
    "    fn=predict_mpg,\n",
    "    inputs=[gr.Number(label=\"cylinders\", precision=0, value=1, minimum=1, maximum=12),gr.Number(label=\"displacement\", precision=0, value=1, minimum=1, maximum=1000),gr.Number(label=\"horsepower\", precision=0, value=1, minimum=1, maximum=1000),gr.Number(label=\"weight\", precision=0, value=1, minimum=1, maximum=10000),gr.Number(label=\"acceleration\", precision=0, value=1, minimum=1, maximum=100)],outputs=gr.Textbox(label=\"prediction\"))\n",
    "\n",
    "# Launch the Gradio interface\n",
    "iface.launch()"
   ]
  },
  {
   "cell_type": "code",
   "execution_count": null,
   "id": "1e8213cb-33ec-49ee-bdd9-f813edd0cf03",
   "metadata": {},
   "outputs": [],
   "source": []
  }
 ],
 "metadata": {
  "kernelspec": {
   "display_name": "Python 3 (ipykernel)",
   "language": "python",
   "name": "python3"
  },
  "language_info": {
   "codemirror_mode": {
    "name": "ipython",
    "version": 3
   },
   "file_extension": ".py",
   "mimetype": "text/x-python",
   "name": "python",
   "nbconvert_exporter": "python",
   "pygments_lexer": "ipython3",
   "version": "3.11.7"
  }
 },
 "nbformat": 4,
 "nbformat_minor": 5
}
